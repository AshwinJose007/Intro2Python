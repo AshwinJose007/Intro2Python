{
  "cells": [
    {
      "cell_type": "code",
      "execution_count": 1,
      "metadata": {},
      "outputs": [],
      "source": [
        "import matplotlib.pyplot as plt\n",
        "import numpy as np\n",
        "import pandas as pd"
      ]
    },
    {
      "cell_type": "markdown",
      "metadata": {},
      "source": [
        "# Pandas Warm-Up"
      ]
    },
    {
      "cell_type": "code",
      "execution_count": 12,
      "metadata": {},
      "outputs": [
        {
          "data": {
            "text/html": [
              "<div>\n",
              "<style scoped>\n",
              "    .dataframe tbody tr th:only-of-type {\n",
              "        vertical-align: middle;\n",
              "    }\n",
              "\n",
              "    .dataframe tbody tr th {\n",
              "        vertical-align: top;\n",
              "    }\n",
              "\n",
              "    .dataframe thead th {\n",
              "        text-align: right;\n",
              "    }\n",
              "</style>\n",
              "<table border=\"1\" class=\"dataframe\">\n",
              "  <thead>\n",
              "    <tr style=\"text-align: right;\">\n",
              "      <th></th>\n",
              "      <th>Group</th>\n",
              "      <th>Type</th>\n",
              "      <th>Average Weight</th>\n",
              "      <th>Average Bilirubin Level</th>\n",
              "      <th>Average Hemoglobin Level</th>\n",
              "    </tr>\n",
              "  </thead>\n",
              "  <tbody>\n",
              "    <tr>\n",
              "      <th>0</th>\n",
              "      <td>A</td>\n",
              "      <td>Control</td>\n",
              "      <td>61.2</td>\n",
              "      <td>6.3</td>\n",
              "      <td>12.3</td>\n",
              "    </tr>\n",
              "    <tr>\n",
              "      <th>1</th>\n",
              "      <td>B</td>\n",
              "      <td>Treatment</td>\n",
              "      <td>59.6</td>\n",
              "      <td>4.8</td>\n",
              "      <td>13.8</td>\n",
              "    </tr>\n",
              "    <tr>\n",
              "      <th>2</th>\n",
              "      <td>C</td>\n",
              "      <td>Treatment</td>\n",
              "      <td>63.4</td>\n",
              "      <td>4.9</td>\n",
              "      <td>12.1</td>\n",
              "    </tr>\n",
              "  </tbody>\n",
              "</table>\n",
              "</div>"
            ],
            "text/plain": [
              "  Group       Type  Average Weight  Average Bilirubin Level  \\\n",
              "0     A    Control            61.2                      6.3   \n",
              "1     B  Treatment            59.6                      4.8   \n",
              "2     C  Treatment            63.4                      4.9   \n",
              "\n",
              "   Average Hemoglobin Level  \n",
              "0                      12.3  \n",
              "1                      13.8  \n",
              "2                      12.1  "
            ]
          },
          "execution_count": 12,
          "metadata": {},
          "output_type": "execute_result"
        }
      ],
      "source": [
        "df = pd.DataFrame()\n",
        "df['Group'] = ['A', 'B', 'C']\n",
        "df['Type'] = ['Control', 'Treatment', 'Treatment']\n",
        "df['Average Weight'] = [61.2, 59.6, 63.4]\n",
        "df['Average Bilirubin Level'] = [6.3, 4.8, 4.9]\n",
        "df['Average Hemoglobin Level'] = [12.3, 13.8, 12.1]\n",
        "df"
      ]
    },
    {
      "cell_type": "markdown",
      "metadata": {},
      "source": [
        "## Giving Tables Some Style"
      ]
    },
    {
      "cell_type": "markdown",
      "metadata": {},
      "source": [
        "  - **Get Styler Version of DataFramte**: `df.style`\n",
        "  - **Styler Methods**: `background_gradient()`, `highlight_min()`, `highlight_max()`, `set_caption()`, `format()`, `hide_index()`, `relabel_index()`\n",
        "    - `props=` in each of these methods takes a CSS style string to set colors and fonts (see example below)\n",
        "  - **Style Ouptut**: `to_latex()`, `to_excel()`, `to_html()`\n",
        "\n",
        "\n",
        "** "
      ]
    },
    {
      "cell_type": "markdown",
      "metadata": {},
      "source": [
        "*Example*: Show the Table, highlighting the minimum values in each column.  For the highlighted cells, set the cell background to light grey and the font to black."
      ]
    },
    {
      "cell_type": "code",
      "execution_count": 13,
      "metadata": {},
      "outputs": [
        {
          "data": {
            "text/html": [
              "<style type=\"text/css\">\n",
              "#T_e6fb1_row1_col2, #T_e6fb1_row1_col3, #T_e6fb1_row2_col4 {\n",
              "  background-color: darkgrey;\n",
              "  color: black;\n",
              "}\n",
              "</style>\n",
              "<table id=\"T_e6fb1\">\n",
              "  <thead>\n",
              "    <tr>\n",
              "      <th class=\"blank level0\" >&nbsp;</th>\n",
              "      <th id=\"T_e6fb1_level0_col0\" class=\"col_heading level0 col0\" >Group</th>\n",
              "      <th id=\"T_e6fb1_level0_col1\" class=\"col_heading level0 col1\" >Type</th>\n",
              "      <th id=\"T_e6fb1_level0_col2\" class=\"col_heading level0 col2\" >Average Weight</th>\n",
              "      <th id=\"T_e6fb1_level0_col3\" class=\"col_heading level0 col3\" >Average Bilirubin Level</th>\n",
              "      <th id=\"T_e6fb1_level0_col4\" class=\"col_heading level0 col4\" >Average Hemoglobin Level</th>\n",
              "    </tr>\n",
              "  </thead>\n",
              "  <tbody>\n",
              "    <tr>\n",
              "      <th id=\"T_e6fb1_level0_row0\" class=\"row_heading level0 row0\" >0</th>\n",
              "      <td id=\"T_e6fb1_row0_col0\" class=\"data row0 col0\" >A</td>\n",
              "      <td id=\"T_e6fb1_row0_col1\" class=\"data row0 col1\" >Control</td>\n",
              "      <td id=\"T_e6fb1_row0_col2\" class=\"data row0 col2\" >61.200000</td>\n",
              "      <td id=\"T_e6fb1_row0_col3\" class=\"data row0 col3\" >6.300000</td>\n",
              "      <td id=\"T_e6fb1_row0_col4\" class=\"data row0 col4\" >12.300000</td>\n",
              "    </tr>\n",
              "    <tr>\n",
              "      <th id=\"T_e6fb1_level0_row1\" class=\"row_heading level0 row1\" >1</th>\n",
              "      <td id=\"T_e6fb1_row1_col0\" class=\"data row1 col0\" >B</td>\n",
              "      <td id=\"T_e6fb1_row1_col1\" class=\"data row1 col1\" >Treatment</td>\n",
              "      <td id=\"T_e6fb1_row1_col2\" class=\"data row1 col2\" >59.600000</td>\n",
              "      <td id=\"T_e6fb1_row1_col3\" class=\"data row1 col3\" >4.800000</td>\n",
              "      <td id=\"T_e6fb1_row1_col4\" class=\"data row1 col4\" >13.800000</td>\n",
              "    </tr>\n",
              "    <tr>\n",
              "      <th id=\"T_e6fb1_level0_row2\" class=\"row_heading level0 row2\" >2</th>\n",
              "      <td id=\"T_e6fb1_row2_col0\" class=\"data row2 col0\" >C</td>\n",
              "      <td id=\"T_e6fb1_row2_col1\" class=\"data row2 col1\" >Treatment</td>\n",
              "      <td id=\"T_e6fb1_row2_col2\" class=\"data row2 col2\" >63.400000</td>\n",
              "      <td id=\"T_e6fb1_row2_col3\" class=\"data row2 col3\" >4.900000</td>\n",
              "      <td id=\"T_e6fb1_row2_col4\" class=\"data row2 col4\" >12.100000</td>\n",
              "    </tr>\n",
              "  </tbody>\n",
              "</table>\n"
            ],
            "text/plain": [
              "<pandas.io.formats.style.Styler at 0x7f1f6549e140>"
            ]
          },
          "execution_count": 13,
          "metadata": {},
          "output_type": "execute_result"
        }
      ],
      "source": [
        "df.style.highlight_min(['Average Weight', 'Average Bilirubin Level', 'Average Hemoglobin Level'], props='background-color: darkgrey; color: black;')"
      ]
    },
    {
      "cell_type": "markdown",
      "metadata": {},
      "source": [
        "*Example*: Show the Table, highlighting the maximum values in each column.  For the highlighted cells, set the cell background to light green and the font to black."
      ]
    },
    {
      "cell_type": "code",
      "execution_count": 14,
      "metadata": {},
      "outputs": [
        {
          "data": {
            "text/html": [
              "<style type=\"text/css\">\n",
              "#T_d7e5c_row0_col3, #T_d7e5c_row1_col4, #T_d7e5c_row2_col2 {\n",
              "  background-color: lightgreen;\n",
              "  color: black;\n",
              "}\n",
              "</style>\n",
              "<table id=\"T_d7e5c\">\n",
              "  <thead>\n",
              "    <tr>\n",
              "      <th class=\"blank level0\" >&nbsp;</th>\n",
              "      <th id=\"T_d7e5c_level0_col0\" class=\"col_heading level0 col0\" >Group</th>\n",
              "      <th id=\"T_d7e5c_level0_col1\" class=\"col_heading level0 col1\" >Type</th>\n",
              "      <th id=\"T_d7e5c_level0_col2\" class=\"col_heading level0 col2\" >Average Weight</th>\n",
              "      <th id=\"T_d7e5c_level0_col3\" class=\"col_heading level0 col3\" >Average Bilirubin Level</th>\n",
              "      <th id=\"T_d7e5c_level0_col4\" class=\"col_heading level0 col4\" >Average Hemoglobin Level</th>\n",
              "    </tr>\n",
              "  </thead>\n",
              "  <tbody>\n",
              "    <tr>\n",
              "      <th id=\"T_d7e5c_level0_row0\" class=\"row_heading level0 row0\" >0</th>\n",
              "      <td id=\"T_d7e5c_row0_col0\" class=\"data row0 col0\" >A</td>\n",
              "      <td id=\"T_d7e5c_row0_col1\" class=\"data row0 col1\" >Control</td>\n",
              "      <td id=\"T_d7e5c_row0_col2\" class=\"data row0 col2\" >61.200000</td>\n",
              "      <td id=\"T_d7e5c_row0_col3\" class=\"data row0 col3\" >6.300000</td>\n",
              "      <td id=\"T_d7e5c_row0_col4\" class=\"data row0 col4\" >12.300000</td>\n",
              "    </tr>\n",
              "    <tr>\n",
              "      <th id=\"T_d7e5c_level0_row1\" class=\"row_heading level0 row1\" >1</th>\n",
              "      <td id=\"T_d7e5c_row1_col0\" class=\"data row1 col0\" >B</td>\n",
              "      <td id=\"T_d7e5c_row1_col1\" class=\"data row1 col1\" >Treatment</td>\n",
              "      <td id=\"T_d7e5c_row1_col2\" class=\"data row1 col2\" >59.600000</td>\n",
              "      <td id=\"T_d7e5c_row1_col3\" class=\"data row1 col3\" >4.800000</td>\n",
              "      <td id=\"T_d7e5c_row1_col4\" class=\"data row1 col4\" >13.800000</td>\n",
              "    </tr>\n",
              "    <tr>\n",
              "      <th id=\"T_d7e5c_level0_row2\" class=\"row_heading level0 row2\" >2</th>\n",
              "      <td id=\"T_d7e5c_row2_col0\" class=\"data row2 col0\" >C</td>\n",
              "      <td id=\"T_d7e5c_row2_col1\" class=\"data row2 col1\" >Treatment</td>\n",
              "      <td id=\"T_d7e5c_row2_col2\" class=\"data row2 col2\" >63.400000</td>\n",
              "      <td id=\"T_d7e5c_row2_col3\" class=\"data row2 col3\" >4.900000</td>\n",
              "      <td id=\"T_d7e5c_row2_col4\" class=\"data row2 col4\" >12.100000</td>\n",
              "    </tr>\n",
              "  </tbody>\n",
              "</table>\n"
            ],
            "text/plain": [
              "<pandas.io.formats.style.Styler at 0x7f1f64a02830>"
            ]
          },
          "execution_count": 14,
          "metadata": {},
          "output_type": "execute_result"
        }
      ],
      "source": [
        "df.style.highlight_max(['Average Weight', 'Average Bilirubin Level', 'Average Hemoglobin Level'], props='background-color: lightgreen; color: black;')"
      ]
    },
    {
      "cell_type": "markdown",
      "metadata": {},
      "source": [
        "Highlight both the min and max by chaining the two methods together (`df.style.highlight_min().highligh_max()`), making the max values with a lightgreen background and the min values with a pink background.\n",
        "\n",
        "Tip: You can split method chains in Python into multiple lines by putting round brackets around the whole chain:\n",
        "\n",
        "```python\n",
        "(\n",
        "    df\n",
        "    .style\n",
        "    .highlight_min()\n",
        "    .highligh_max()\n",
        ")\n",
        "```"
      ]
    },
    {
      "cell_type": "code",
      "execution_count": 15,
      "metadata": {
        "tags": [
          "exercise"
        ]
      },
      "outputs": [],
      "source": []
    },
    {
      "cell_type": "markdown",
      "metadata": {},
      "source": [
        "Change all cell colors to show their order using a background gradient"
      ]
    },
    {
      "cell_type": "code",
      "execution_count": 16,
      "metadata": {
        "tags": [
          "exercise"
        ]
      },
      "outputs": [],
      "source": []
    },
    {
      "cell_type": "markdown",
      "metadata": {},
      "source": [
        "Export the Styled table with background gradient to Latex:"
      ]
    },
    {
      "cell_type": "code",
      "execution_count": 17,
      "metadata": {
        "tags": [
          "exercise"
        ]
      },
      "outputs": [],
      "source": []
    },
    {
      "cell_type": "markdown",
      "metadata": {},
      "source": [
        "Export the Styled table with highlighted min and max to HTML, hiding the index column:"
      ]
    },
    {
      "cell_type": "code",
      "execution_count": 18,
      "metadata": {
        "tags": [
          "exercise"
        ]
      },
      "outputs": [],
      "source": []
    },
    {
      "cell_type": "markdown",
      "metadata": {},
      "source": [
        "Export the Styled table with highlighted min and max to Excel, adding the caption \"Average Patient Group Data\":"
      ]
    },
    {
      "cell_type": "code",
      "execution_count": 19,
      "metadata": {
        "tags": [
          "exercise"
        ]
      },
      "outputs": [],
      "source": []
    },
    {
      "cell_type": "markdown",
      "metadata": {},
      "source": [
        "## Plotting With Pandas\n",
        "\n",
        "Plotting Matplotlib Plots with Pandas is often straightforward:\n",
        "\n",
        "  - Calling Matplotlib function directly: (e.g. `plt.bar(df['Group'], df['Weight'])`)\n",
        "  - Or calling Dataframe Plotter methods directly: (e.g. `df.plot.bar('Group', 'Weight')`)\n",
        "  - Or calling `df.plot()` as a high-level method: (e.g. `df.plot('Group', 'Weight', kind='bar')`)\n",
        "\n",
        "Saving the most-recent figure is usually still done with matplotlib's `plt.figsave()` function, regardless of whether the plot is made with Matplotlib or Pandas functions."
      ]
    },
    {
      "cell_type": "markdown",
      "metadata": {},
      "source": [
        "**Exercises**: Let's try it out!"
      ]
    },
    {
      "cell_type": "markdown",
      "metadata": {},
      "source": [
        "*Example*: Using Matplotlib directly, make a bar plot showing the average weight of each group. Save it to a file named `example.png`:"
      ]
    },
    {
      "cell_type": "code",
      "execution_count": 20,
      "metadata": {},
      "outputs": [
        {
          "data": {
            "image/png": "[encoded data removed]",
            "text/plain": [
              "<Figure size 640x480 with 1 Axes>"
            ]
          },
          "metadata": {},
          "output_type": "display_data"
        }
      ],
      "source": [
        "plt.bar(df['Group'], df['Average Weight']);\n",
        "plt.savefig('example.ignore.png')"
      ]
    },
    {
      "cell_type": "markdown",
      "metadata": {},
      "source": [
        "*Example*: This time using Pandas directly, make a bar plot showing the average weight of each group (be sure to label the axes). Save it to a file named `example2.png`:"
      ]
    },
    {
      "cell_type": "code",
      "execution_count": 21,
      "metadata": {
        "tags": [
          "exercise"
        ]
      },
      "outputs": [],
      "source": []
    },
    {
      "cell_type": "markdown",
      "metadata": {},
      "source": [
        "Using Matplotlib directly, make a bar plot showing the average bilirubin levels by patient group.  Save the figure to `bili.png`"
      ]
    },
    {
      "cell_type": "code",
      "execution_count": 30,
      "metadata": {
        "tags": [
          "exercise"
        ]
      },
      "outputs": [],
      "source": []
    },
    {
      "cell_type": "markdown",
      "metadata": {},
      "source": [
        "*Example*: This time using Pandas directly, make a bar plot showing the average bilirubin level of each group (be sure to label the axes). Save it to a file named `bili2.png`:"
      ]
    },
    {
      "cell_type": "code",
      "execution_count": 31,
      "metadata": {
        "tags": [
          "exercise"
        ]
      },
      "outputs": [],
      "source": []
    },
    {
      "cell_type": "markdown",
      "metadata": {},
      "source": [
        "Call the `df.plot()` function with no arguments and see what happens.  Try tweaking the parameters of the function to make things more clear or interesting, maing three different figures with their own unique layouts and looks.  Take a look at the options here: https://pandas.pydata.org/pandas-docs/version/0.22/generated/pandas.DataFrame.plot.html#pandas-dataframe-plot\n"
      ]
    },
    {
      "cell_type": "code",
      "execution_count": 32,
      "metadata": {
        "tags": [
          "exercise"
        ]
      },
      "outputs": [],
      "source": []
    },
    {
      "cell_type": "code",
      "execution_count": 48,
      "metadata": {
        "tags": [
          "exercise"
        ]
      },
      "outputs": [],
      "source": []
    },
    {
      "cell_type": "code",
      "execution_count": 58,
      "metadata": {
        "tags": [
          "exercise"
        ]
      },
      "outputs": [],
      "source": []
    }
  ],
  "metadata": {
    "kernelspec": {
      "display_name": "Python 3 (ipykernel)",
      "language": "python",
      "name": "python3"
    },
    "language_info": {
      "codemirror_mode": {
        "name": "ipython",
        "version": 3
      },
      "file_extension": ".py",
      "mimetype": "text/x-python",
      "name": "python",
      "nbconvert_exporter": "python",
      "pygments_lexer": "ipython3",
      "version": "3.10.4"
    },
    "vscode": {
      "interpreter": {
        "hash": "d6852d01271bf8033dbdb7ec364b6f6e89fd52a18c6bf5b4c73e48c86329a8dd"
      }
    }
  },
  "nbformat": 4,
  "nbformat_minor": 4
}