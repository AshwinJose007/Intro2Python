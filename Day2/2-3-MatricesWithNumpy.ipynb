{
  "cells": [
    {
      "cell_type": "code",
      "execution_count": 79,
      "id": "729d935f",
      "metadata": {},
      "outputs": [
        {
          "name": "stdout",
          "output_type": "stream",
          "text": [
            "Requirement already satisfied: numpy in /home/nickdg/miniconda3/envs/py10/lib/python3.10/site-packages (1.23.3)\n",
            "Requirement already satisfied: matplotlib in /home/nickdg/miniconda3/envs/py10/lib/python3.10/site-packages (3.6.0)\n",
            "Requirement already satisfied: Pillow in /home/nickdg/miniconda3/envs/py10/lib/python3.10/site-packages (9.2.0)\n",
            "Requirement already satisfied: cycler>=0.10 in /home/nickdg/miniconda3/envs/py10/lib/python3.10/site-packages (from matplotlib) (0.11.0)\n",
            "Requirement already satisfied: packaging>=20.0 in /home/nickdg/miniconda3/envs/py10/lib/python3.10/site-packages (from matplotlib) (21.3)\n",
            "Requirement already satisfied: fonttools>=4.22.0 in /home/nickdg/miniconda3/envs/py10/lib/python3.10/site-packages (from matplotlib) (4.37.4)\n",
            "Requirement already satisfied: pyparsing>=2.2.1 in /home/nickdg/miniconda3/envs/py10/lib/python3.10/site-packages (from matplotlib) (3.0.9)\n",
            "Requirement already satisfied: python-dateutil>=2.7 in /home/nickdg/miniconda3/envs/py10/lib/python3.10/site-packages (from matplotlib) (2.8.2)\n",
            "Requirement already satisfied: kiwisolver>=1.0.1 in /home/nickdg/miniconda3/envs/py10/lib/python3.10/site-packages (from matplotlib) (1.4.4)\n",
            "Requirement already satisfied: contourpy>=1.0.1 in /home/nickdg/miniconda3/envs/py10/lib/python3.10/site-packages (from matplotlib) (1.0.5)\n",
            "Requirement already satisfied: six>=1.5 in /home/nickdg/miniconda3/envs/py10/lib/python3.10/site-packages (from python-dateutil>=2.7->matplotlib) (1.16.0)\n"
          ]
        }
      ],
      "source": [
        "!pip install numpy matplotlib Pillow"
      ]
    },
    {
      "cell_type": "code",
      "execution_count": 1,
      "id": "bddba77e",
      "metadata": {
        "cell_id": "00000-6f12dfe2-3197-47ff-b294-649882e3441a",
        "deepnote_cell_type": "code",
        "deepnote_to_be_reexecuted": false,
        "execution_millis": 0,
        "execution_start": 1628757011735,
        "id": "apparent-optimum",
        "source_hash": "c2602aa8"
      },
      "outputs": [],
      "source": [
        "import numpy as np\n"
      ]
    },
    {
      "cell_type": "markdown",
      "id": "8eeb3d0c",
      "metadata": {},
      "source": [
        "Download Data: Run the following code to download the data files for this notebook. This will put some images into a new \"images\" folder."
      ]
    },
    {
      "cell_type": "code",
      "execution_count": 26,
      "id": "3184ae80",
      "metadata": {},
      "outputs": [],
      "source": [
        "from os import makedirs, mkdir\n",
        "from PIL import Image\n",
        "from urllib.request import urlopen\n",
        "from pathlib import Path\n",
        "from io import BytesIO\n",
        "\n",
        "savedir = Path(\"images\")\n",
        "makedirs(str(savedir), exist_ok=True)\n",
        "urls = [\n",
        "    (\"https://www.reed.edu/biology/professors/srenn/pages/teaching/web_2007/hlm20071105/images/brain.jpg\", \"brains.jpg\"),\n",
        "    (\"http://www.bio.umass.edu/microscopy/images/gfpxxx1.jpg\", \"cells.jpg\"),\n",
        "    (\"https://medievalists.gumlet.io/wp-content/uploads/2015/04/Favourite-Scene-from-Monty-Python-and-the-Holy-Grail.jpg\", \"montypython.jpg\"),\n",
        "    (\"https://upload.wikimedia.org/wikipedia/commons/thumb/e/ec/Skull_and_brain_normal_human.svg/800px-Skull_and_brain_normal_human.svg.png\", \"skull.png\"),\n",
        "]\n",
        "for url, filename in urls:\n",
        "    downloaded_data = urlopen(url).read()\n",
        "    inmemory_file = BytesIO(downloaded_data)\n",
        "    img = Image.open(inmemory_file)\n",
        "    img.save(savedir / filename)\n"
      ]
    },
    {
      "cell_type": "markdown",
      "id": "dea3226b",
      "metadata": {
        "cell_id": "00001-28755d24-92e9-4fa8-82a5-c28490f21d2f",
        "deepnote_cell_type": "markdown",
        "id": "promotional-inside"
      },
      "source": [
        "## Multidimensional Arrays with Numpy\n",
        "\n",
        "\n",
        "Numpy arrays can be multidimensional: they can be squares, cubes, hypercubes, etc!  When choosing datastructures, Arrays are best chosen when all of the values in the structure represent the same variable.\n",
        "\n",
        "With multidimensional arrays, everything is pretty much the same as the 1-dimensional case, with the addition of a few options for specifiying which order the dimensions should be in, and which dimension an operation should operate on."
      ]
    },
    {
      "cell_type": "code",
      "execution_count": 2,
      "id": "7ac1eb9e",
      "metadata": {
        "cell_id": "00002-819a3aed-f9bc-43ef-8c79-b79d768dd59d",
        "deepnote_cell_type": "code",
        "deepnote_to_be_reexecuted": false,
        "execution_millis": 9,
        "execution_start": 1628757185650,
        "source_hash": "d8b92cae",
        "tags": []
      },
      "outputs": [
        {
          "data": {
            "text/plain": [
              "dtype('int64')"
            ]
          },
          "execution_count": 2,
          "metadata": {},
          "output_type": "execute_result"
        }
      ],
      "source": [
        "x = np.random.randint(1, 10, size=(2, 3, 4))\n",
        "x.size\n",
        "x.dtype"
      ]
    },
    {
      "cell_type": "code",
      "execution_count": 3,
      "id": "75c30d40",
      "metadata": {
        "cell_id": "00003-e2d664e2-6acb-4d07-a001-fc2aaa9a2a0d",
        "deepnote_cell_type": "code",
        "deepnote_to_be_reexecuted": false,
        "execution_millis": 8,
        "execution_start": 1628757708643,
        "source_hash": "c884cea1",
        "tags": []
      },
      "outputs": [
        {
          "data": {
            "text/plain": [
              "array([[2, 3],\n",
              "       [6, 7]])"
            ]
          },
          "execution_count": 3,
          "metadata": {},
          "output_type": "execute_result"
        }
      ],
      "source": [
        "x = np.arange(12).reshape(3, -1)\n",
        "x[:2, 2:4]"
      ]
    },
    {
      "cell_type": "markdown",
      "id": "d0e80970",
      "metadata": {
        "cell_id": "00002-3eefc9f1-4fcc-4ac6-ad7c-4e67d4cd90e1",
        "deepnote_cell_type": "markdown",
        "id": "little-bunch"
      },
      "source": [
        "### Creating Multidimensional Arrays\n",
        "\n",
        "Most of the array-generation functions have a **shape** or **size** optional argument in them.  If you provide a tuple with a new shape specifying the number of elements along each dimension (e.g. (5, 3) will produce a matrix with 5 rows and 3 columns), it will give you something multidimensional!\n",
        "\n",
        "```python\n",
        ">>> data = np.random.randint(1, 10, size=(4, 5))\n",
        ">>> data\n",
        "array([[9, 7, 4, 2, 3],\n",
        "       [3, 6, 7, 4, 8],\n",
        "       [3, 6, 8, 7, 3],\n",
        "       [6, 9, 4, 2, 2]])\n",
        "```\n",
        "\n",
        "For cases where there is no such option, all arrays have a **reshape()** method that lets you take an existing array and make it more-dimensional.  To simply **flatten** the matrix to a single dimension, you can use the **flatten()** method.\n",
        "\n",
        "```python\n",
        ">>> data.reshape(2, 10)\n",
        "array([[9, 7, 4, 2, 3, 3, 6, 7, 4, 8],\n",
        "       [3, 6, 8, 7, 3, 6, 9, 4, 2, 2]])\n",
        "\n",
        ">>> data.flatten()\n",
        "array([9, 7, 4, 2, 3, 3, 6, 7, 4, 8, 3, 6, 8, 7, 3, 6, 9, 4, 2, 2])\n",
        "```\n",
        "\n",
        "Numpy also has some auto-calculation features to make it a bit easier to get the shape you need:\n",
        "\n",
        "```python\n",
        ">>> data.reshape(-1, 5)  # -1 tells the reshape() method to calculate the value in that spot\n",
        "array([[9, 7, 4, 2, 3],\n",
        "       [3, 6, 7, 4, 8],\n",
        "       [3, 6, 8, 7, 3],\n",
        "       [6, 9, 4, 2, 2]])\n",
        "\n",
        ">>> data.flatten()[np.newaxis, :]  # Makes a 1xN array\n",
        ">>> data.flatten()[None, :]  # Also Makes a 1xN array\n",
        ">>> data.flatten()[:, None]  # Makes an Nx1 array\n",
        "```\n",
        "\n",
        "And if an array has some extra dimensions you don't care about (like a 32x1x1 array, and you just want a 32 array), you can use the **squeeze()** method to squeeze out those extra dimensions!\n",
        "\n",
        "Finally, you can find out the shape of a matrix by getting its **shape** attribute.  And to get the total number of elements, check its **size** attribute.\n",
        "\n",
        "```python\n",
        ">>> data.shape\n",
        "(4, 5)\n",
        "\n",
        ">>> data.size\n",
        "20\n",
        "```"
      ]
    },
    {
      "cell_type": "markdown",
      "id": "26c891e7",
      "metadata": {
        "cell_id": "00003-67600b12-32a6-452e-9db9-ec5d88033c3b",
        "deepnote_cell_type": "markdown",
        "id": "designing-flexibility"
      },
      "source": [
        "**Exercises**"
      ]
    },
    {
      "cell_type": "markdown",
      "id": "3ff3ab95",
      "metadata": {
        "cell_id": "00004-fc37327d-39b5-47d2-9212-4b49c19493ad",
        "deepnote_cell_type": "markdown",
        "id": "outstanding-thumbnail"
      },
      "source": [
        "Generate a 3 x 10 array of random integers between 1 and 4 using **`np.random.randint`**"
      ]
    },
    {
      "cell_type": "code",
      "execution_count": 5,
      "id": "e948f0ed",
      "metadata": {
        "cell_id": "00005-7d7981d4-4b4a-42f2-8a4c-bcba1f9b0aa9",
        "deepnote_cell_type": "code",
        "deepnote_to_be_reexecuted": false,
        "execution_millis": 0,
        "execution_start": 1628718090740,
        "id": "interior-broadcast",
        "outputId": "b4066b75-590e-4c17-e916-7a2769c75e4b",
        "source_hash": "b623e53d",
        "tags": [
          "exercise"
        ]
      },
      "outputs": [],
      "source": []
    },
    {
      "cell_type": "markdown",
      "id": "9b0b4c2b",
      "metadata": {
        "cell_id": "00006-5acc74e9-7bbe-4c18-a69c-23a6b2e8ce9c",
        "deepnote_cell_type": "markdown",
        "id": "external-sixth"
      },
      "source": [
        "Make a flat array with all the values between 0 and 11, and then reshape it into a 3 x 4 matrix using **`array.reshape()`**"
      ]
    },
    {
      "cell_type": "code",
      "execution_count": 7,
      "id": "e3a5b82b",
      "metadata": {
        "cell_id": "00007-9b856015-d6c5-49a6-8925-0c62934a26c9",
        "deepnote_cell_type": "code",
        "deepnote_to_be_reexecuted": false,
        "execution_millis": 1,
        "execution_start": 1628718194089,
        "id": "induced-calibration",
        "outputId": "ac8537aa-21bb-4691-ca5c-a9856a3cb234",
        "source_hash": "aa76e70b",
        "tags": [
          "exercise"
        ]
      },
      "outputs": [],
      "source": []
    },
    {
      "cell_type": "markdown",
      "id": "10114bbc",
      "metadata": {
        "cell_id": "00008-79a902e0-dd64-4386-87d4-9e8bb8f37b0c",
        "deepnote_cell_type": "markdown",
        "id": "fifth-integrity"
      },
      "source": [
        "...Reshape the previous array into a 4 x 3 matrix..."
      ]
    },
    {
      "cell_type": "code",
      "execution_count": 8,
      "id": "5590960e",
      "metadata": {
        "cell_id": "00009-babeeeb7-9957-4218-9cc4-8d86ac683723",
        "deepnote_cell_type": "code",
        "id": "radio-concentrate",
        "tags": [
          "exercise"
        ]
      },
      "outputs": [],
      "source": []
    },
    {
      "cell_type": "markdown",
      "id": "42e685e2",
      "metadata": {
        "cell_id": "00010-783bfd53-791c-431b-89f8-6f1904e62725",
        "deepnote_cell_type": "markdown",
        "id": "protective-person"
      },
      "source": [
        "...Reshape that array into a 2 x 6 matrix..."
      ]
    },
    {
      "cell_type": "code",
      "execution_count": 9,
      "id": "6742a117",
      "metadata": {
        "cell_id": "00011-01313b81-dd1a-4e26-b433-9b5c2b959dc8",
        "deepnote_cell_type": "code",
        "id": "necessary-collect",
        "tags": [
          "exercise"
        ]
      },
      "outputs": [],
      "source": []
    },
    {
      "cell_type": "markdown",
      "id": "137640c2",
      "metadata": {
        "cell_id": "00012-26f00f3d-85f3-4a6a-8431-d827f6239dd1",
        "deepnote_cell_type": "markdown",
        "id": "going-flexibility"
      },
      "source": [
        "...Then flatten it."
      ]
    },
    {
      "cell_type": "code",
      "execution_count": 10,
      "id": "a9ba30a1",
      "metadata": {
        "cell_id": "00013-5b6288ec-d09b-4f23-9117-7354dca1f1bc",
        "deepnote_cell_type": "code",
        "id": "loaded-husband",
        "tags": [
          "exercise"
        ]
      },
      "outputs": [],
      "source": []
    },
    {
      "cell_type": "markdown",
      "id": "c5b51f72",
      "metadata": {
        "cell_id": "00014-bfb8ff03-2a05-4ce8-be63-cc05381e12c6",
        "deepnote_cell_type": "markdown",
        "id": "standing-council"
      },
      "source": [
        "Confirm its shape.  Is it the same as its size?"
      ]
    },
    {
      "cell_type": "code",
      "execution_count": 15,
      "id": "9f1898bd",
      "metadata": {
        "cell_id": "00015-616815e1-7b14-42a8-8b75-a200686b2252",
        "deepnote_cell_type": "code",
        "id": "educated-arrest",
        "tags": [
          "exercise"
        ]
      },
      "outputs": [],
      "source": []
    },
    {
      "cell_type": "markdown",
      "id": "b8328c24",
      "metadata": {
        "cell_id": "00016-00e5f4f0-17c9-43cf-b7c4-0fe2177c2680",
        "deepnote_cell_type": "markdown",
        "id": "consolidated-ridge"
      },
      "source": [
        "### Reordering Dimensions\n",
        "\n",
        "There are many ways to transpose matrices:\n",
        "  - array.T\n",
        "  - array.transpose()\n",
        "  - np.transpose(array)\n",
        "  - array.swapaxes(0, 1)\n",
        "\n"
      ]
    },
    {
      "cell_type": "markdown",
      "id": "6fa1a94a",
      "metadata": {},
      "source": [
        "**Exercises**\n",
        "Use each of the four above transpose functions on the following array **x**."
      ]
    },
    {
      "cell_type": "code",
      "execution_count": 4,
      "id": "7706e190",
      "metadata": {
        "cell_id": "00017-2dc43469-9101-4971-bd7b-885d7b736e33",
        "deepnote_cell_type": "code",
        "deepnote_to_be_reexecuted": false,
        "execution_millis": 6,
        "execution_start": 1628718272428,
        "id": "standard-standard",
        "outputId": "dd386ae6-8878-433e-d607-a9a54841c828",
        "source_hash": "65ca1984"
      },
      "outputs": [
        {
          "data": {
            "text/plain": [
              "array([[0, 1, 2],\n",
              "       [3, 4, 5]])"
            ]
          },
          "execution_count": 4,
          "metadata": {},
          "output_type": "execute_result"
        }
      ],
      "source": [
        "x = np.arange(6).reshape(2, 3)\n",
        "x"
      ]
    },
    {
      "cell_type": "code",
      "execution_count": 18,
      "id": "89c7ed8a",
      "metadata": {
        "cell_id": "00018-893d0bd0-8593-4cd3-9cf5-ce52ebdd6593",
        "deepnote_cell_type": "code",
        "tags": [
          "exercise"
        ]
      },
      "outputs": [],
      "source": []
    },
    {
      "cell_type": "code",
      "execution_count": 19,
      "id": "a39d9d42",
      "metadata": {
        "cell_id": "00019-d534e0cf-18cb-4e7c-8e8f-1452c05d1904",
        "deepnote_cell_type": "code",
        "tags": [
          "exercise"
        ]
      },
      "outputs": [],
      "source": []
    },
    {
      "cell_type": "code",
      "execution_count": 20,
      "id": "7a02e5ee",
      "metadata": {
        "cell_id": "00020-4d1a13c9-284a-48e9-a1e1-d8cf446b8c6d",
        "deepnote_cell_type": "code",
        "tags": [
          "exercise"
        ]
      },
      "outputs": [],
      "source": []
    },
    {
      "cell_type": "code",
      "execution_count": 21,
      "id": "966e96ec",
      "metadata": {
        "cell_id": "00021-f160e147-ced7-4d8a-9ed0-c12b9620a1fa",
        "deepnote_cell_type": "code",
        "tags": [
          "exercise"
        ]
      },
      "outputs": [],
      "source": []
    },
    {
      "cell_type": "markdown",
      "id": "74ee5b54",
      "metadata": {
        "cell_id": "00020-e3ed408a-76f4-449b-bf18-4382066044e5",
        "deepnote_cell_type": "markdown",
        "id": "expensive-petersburg"
      },
      "source": [
        "**Discussion**: Why might Numpy have so many options for the same transformation?  What's the benefit?"
      ]
    },
    {
      "cell_type": "markdown",
      "id": "2c05632c",
      "metadata": {
        "cell_id": "00025-9dba183e-462b-4d8f-9d27-8405dd02b4d9",
        "deepnote_cell_type": "markdown",
        "id": "enormous-chinese"
      },
      "source": [
        "### Aggregating Across Axes\n",
        "\n",
        "| Function | Method |\n",
        "| :---  | :--- |\n",
        "| `np.mean(x, axis=0)` | `x.mean(axis=0)` |\n",
        "| `np.std(x, axis=0)`  | `x.std(axis=0)`  |\n",
        "| `np.median(x, axis=0)` | *(No median method)* |\n",
        "\n",
        "Almost all of the Numpy functions have an **axis** option, which lets you limit the operation to just that axis.  \n",
        "\n",
        "For example, to get the mean of all columns:\n",
        "\n",
        "```python\n",
        ">>> array = np.arange(12).reshape(3, 4)\n",
        ">>> array.mean(axis=0)\n",
        "array([4., 5., 6., 7.])\n",
        "```\n",
        "\n",
        "And the mean of the rows:\n",
        "\n",
        "```python\n",
        ">>> array.mean(axis=1)\n",
        "array([1.5, 5.5, 9.5])\n",
        "```\n",
        "\n",
        "Notice that the number of dimensions goes down by default whenever you aggregate across the axis.  If you'd like to keep the dimensions the same, you can also use the **keepdims=True** option:\n",
        "\n",
        "```python\n",
        ">>> array.mean(axis=1, keepdims=True)\n",
        "array([[1.5],\n",
        "       [5.5],\n",
        "       [9.5]])\n",
        "```"
      ]
    },
    {
      "cell_type": "markdown",
      "id": "c13466eb",
      "metadata": {
        "cell_id": "00026-f7371ded-9660-4dfb-8245-c98c5c9e94b0",
        "deepnote_cell_type": "markdown",
        "id": "natural-necklace"
      },
      "source": [
        "**Exercises**: Try it out for yourself, with the provided array `data`:"
      ]
    },
    {
      "cell_type": "code",
      "execution_count": 22,
      "id": "6f7715ed",
      "metadata": {
        "cell_id": "00027-f2b70d99-58bc-4c49-bc8f-a2c942da5935",
        "deepnote_cell_type": "code",
        "id": "employed-satellite",
        "outputId": "e1c7a15b-c658-4236-abf3-3dd04634d161"
      },
      "outputs": [
        {
          "data": {
            "text/plain": [
              "array([[  6,  30, 700],\n",
              "       [  4,  60, 900],\n",
              "       [  2,  60, 700],\n",
              "       [  4,  30, 700],\n",
              "       [  7,  20, 500]])"
            ]
          },
          "execution_count": 22,
          "metadata": {},
          "output_type": "execute_result"
        }
      ],
      "source": [
        "np.random.seed(42)\n",
        "data = np.random.randint(0, 10, size=(5, 3)) * [1, 10, 100]\n",
        "data"
      ]
    },
    {
      "cell_type": "markdown",
      "id": "c68d4d04",
      "metadata": {
        "cell_id": "00028-76fa3abe-6c04-4b21-a51c-ef063f39c0b2",
        "deepnote_cell_type": "markdown",
        "id": "ceramic-romania"
      },
      "source": [
        "*Example*: What is the mean of each column?"
      ]
    },
    {
      "cell_type": "code",
      "execution_count": 23,
      "id": "1ebf8983",
      "metadata": {
        "cell_id": "00029-e13e9ca0-4f3d-483f-92ce-66ca3943369a",
        "deepnote_cell_type": "code",
        "id": "japanese-desperate"
      },
      "outputs": [
        {
          "data": {
            "text/plain": [
              "array([  4.6,  40. , 700. ])"
            ]
          },
          "execution_count": 23,
          "metadata": {},
          "output_type": "execute_result"
        }
      ],
      "source": [
        "data.mean(axis=0)"
      ]
    },
    {
      "cell_type": "markdown",
      "id": "7b3b65e5",
      "metadata": {
        "cell_id": "00030-41ea0348-2969-41ca-a660-8d679481d007",
        "deepnote_cell_type": "markdown",
        "id": "systematic-italic"
      },
      "source": [
        "What is the standard deviation of each row?"
      ]
    },
    {
      "cell_type": "code",
      "execution_count": 24,
      "id": "9cb90768",
      "metadata": {
        "cell_id": "00029-5365bea6-c6f6-4840-9e86-9c6543ca11a5",
        "deepnote_cell_type": "code",
        "tags": [
          "exercise"
        ]
      },
      "outputs": [],
      "source": []
    },
    {
      "cell_type": "markdown",
      "id": "972cfc5f",
      "metadata": {
        "cell_id": "00030-8782b592-3000-40ee-afad-9e06542ea77a",
        "deepnote_cell_type": "markdown",
        "tags": []
      },
      "source": [
        "What is the maximum of each column?"
      ]
    },
    {
      "cell_type": "code",
      "execution_count": 25,
      "id": "1f2b4dab",
      "metadata": {
        "cell_id": "00031-1ae7e746-89e8-42e0-aa0f-732adb82d1f8",
        "deepnote_cell_type": "code",
        "tags": [
          "exercise"
        ]
      },
      "outputs": [],
      "source": []
    },
    {
      "cell_type": "markdown",
      "id": "eac7fa3b",
      "metadata": {
        "cell_id": "00032-a16c3ae8-2c98-46ef-aab7-86fa2cf46302",
        "deepnote_cell_type": "markdown",
        "id": "brief-recruitment"
      },
      "source": [
        "What is the mean of each column's median?"
      ]
    },
    {
      "cell_type": "code",
      "execution_count": 26,
      "id": "7724315f",
      "metadata": {
        "cell_id": "00033-a9650749-b9bd-4cac-a033-c0dfb05377cf",
        "deepnote_cell_type": "code",
        "id": "institutional-advertising",
        "tags": [
          "exercise"
        ]
      },
      "outputs": [],
      "source": []
    },
    {
      "cell_type": "markdown",
      "id": "d2af704b",
      "metadata": {
        "cell_id": "00034-6529e5b2-eab3-442a-86a7-583634af666e",
        "deepnote_cell_type": "markdown",
        "id": "strong-fields"
      },
      "source": [
        "## Indexing Exercises"
      ]
    },
    {
      "cell_type": "markdown",
      "id": "8d3d2f05",
      "metadata": {
        "cell_id": "00035-edc86f41-aa6e-4ad2-b34c-e54afaff6521",
        "deepnote_cell_type": "markdown",
        "id": "continued-enough"
      },
      "source": [
        "Numpy arrays work the same way as other sequences, but they can have multiple dimensions (rows, columns, etc) over which to index/slice the array.\n",
        "\n",
        "```python\n",
        "data = np.array([[0, 1, 2,  3],\n",
        "                 [4, 5, 6,  7],\n",
        "                 [8, 9, 10, 11]]\n",
        "               )\n",
        "second_row = data[1, :]\n",
        "third_column = data[:, 2]\n",
        "```"
      ]
    },
    {
      "cell_type": "markdown",
      "id": "8fe8fbb8",
      "metadata": {},
      "source": [
        "**Exercises**"
      ]
    },
    {
      "cell_type": "markdown",
      "id": "6cc3522f",
      "metadata": {
        "cell_id": "00036-bc50b355-ba1d-464f-9046-1582cb06af2f",
        "deepnote_cell_type": "markdown",
        "id": "thorough-rally"
      },
      "source": [
        "Using the example dataset *scores*, select only the described elements from each list:"
      ]
    },
    {
      "cell_type": "code",
      "execution_count": 5,
      "id": "28846878",
      "metadata": {
        "cell_id": "00037-4955c9d5-2a85-463d-a928-e680c6b358d4",
        "deepnote_cell_type": "code",
        "id": "sonic-gathering",
        "outputId": "e53d26db-f0a6-4de5-cca5-a85ee05b0eda"
      },
      "outputs": [
        {
          "data": {
            "text/plain": [
              "array([[ 1,  2,  3,  4,  5,  6,  7,  8],\n",
              "       [ 9, 10, 11, 12, 13, 14, 15, 16],\n",
              "       [17, 18, 19, 20, 21, 22, 23, 24],\n",
              "       [25, 26, 27, 28, 29, 30, 31, 32],\n",
              "       [33, 34, 35, 36, 37, 38, 39, 40],\n",
              "       [41, 42, 43, 44, 45, 46, 47, 48]])"
            ]
          },
          "execution_count": 5,
          "metadata": {},
          "output_type": "execute_result"
        }
      ],
      "source": [
        "scores = np.arange(1, 49).reshape(6, 8)\n",
        "scores"
      ]
    },
    {
      "cell_type": "markdown",
      "id": "49d05caa",
      "metadata": {
        "cell_id": "00038-1caf2a05-4812-42d3-88ff-0fe5725c3a1e",
        "deepnote_cell_type": "markdown",
        "id": "automated-hollywood"
      },
      "source": [
        "**Example:** The first score in the 2nd row:"
      ]
    },
    {
      "cell_type": "code",
      "execution_count": 29,
      "id": "ae6808fc",
      "metadata": {
        "cell_id": "00039-82209c52-4056-4f52-a54a-ef024f2c83d4",
        "deepnote_cell_type": "code",
        "id": "korean-indonesian"
      },
      "outputs": [
        {
          "data": {
            "text/plain": [
              "9"
            ]
          },
          "execution_count": 29,
          "metadata": {},
          "output_type": "execute_result"
        }
      ],
      "source": [
        "scores[1, 0]"
      ]
    },
    {
      "cell_type": "markdown",
      "id": "cdb5acd1",
      "metadata": {},
      "source": [
        "The fourth score in the first row:"
      ]
    },
    {
      "cell_type": "code",
      "execution_count": 30,
      "id": "edb81fda",
      "metadata": {
        "tags": [
          "exercise"
        ]
      },
      "outputs": [],
      "source": []
    },
    {
      "cell_type": "markdown",
      "id": "2a06e80d",
      "metadata": {},
      "source": [
        "the second score in the fifth row:"
      ]
    },
    {
      "cell_type": "code",
      "execution_count": 7,
      "id": "10a9ba89",
      "metadata": {
        "tags": [
          "exercise"
        ]
      },
      "outputs": [],
      "source": []
    },
    {
      "cell_type": "markdown",
      "id": "86109a42-a87b-47de-ac89-641cb625ffd8",
      "metadata": {},
      "source": [
        "The third score in the sixth column:"
      ]
    },
    {
      "cell_type": "code",
      "execution_count": 8,
      "id": "b2aa00ba-c76c-4461-8acd-3a566a6e0de9",
      "metadata": {
        "tags": [
          "exercise"
        ]
      },
      "outputs": [],
      "source": []
    },
    {
      "cell_type": "markdown",
      "id": "0da99c14",
      "metadata": {
        "cell_id": "00040-a1b0e6a3-f4dc-4eeb-8566-7a08356d9adb",
        "deepnote_cell_type": "markdown",
        "id": "variable-organizer"
      },
      "source": [
        "**Example**: The third-through-fifth columns:"
      ]
    },
    {
      "cell_type": "code",
      "execution_count": 31,
      "id": "dd009b47",
      "metadata": {
        "cell_id": "00041-52f527cb-bcb5-4733-9619-0ea4df302ccd",
        "deepnote_cell_type": "code",
        "id": "surprising-gardening"
      },
      "outputs": [
        {
          "data": {
            "text/plain": [
              "array([[ 3,  4,  5],\n",
              "       [11, 12, 13],\n",
              "       [19, 20, 21],\n",
              "       [27, 28, 29],\n",
              "       [35, 36, 37],\n",
              "       [43, 44, 45]])"
            ]
          },
          "execution_count": 31,
          "metadata": {},
          "output_type": "execute_result"
        }
      ],
      "source": [
        "scores[:, 2:5]"
      ]
    },
    {
      "cell_type": "markdown",
      "id": "c34990af",
      "metadata": {},
      "source": [
        "The first-through-fourth columns:"
      ]
    },
    {
      "cell_type": "code",
      "execution_count": 32,
      "id": "ca6c0520",
      "metadata": {
        "tags": [
          "exercise"
        ]
      },
      "outputs": [],
      "source": []
    },
    {
      "cell_type": "markdown",
      "id": "22bba607",
      "metadata": {},
      "source": [
        "The second-through-fourth **rows**:"
      ]
    },
    {
      "cell_type": "code",
      "execution_count": 33,
      "id": "dfa5844d",
      "metadata": {
        "tags": [
          "exercise"
        ]
      },
      "outputs": [],
      "source": []
    },
    {
      "cell_type": "markdown",
      "id": "eeed19ce",
      "metadata": {},
      "source": [
        "The fourth row:"
      ]
    },
    {
      "cell_type": "code",
      "execution_count": 34,
      "id": "c084c1f1",
      "metadata": {
        "tags": [
          "exercise"
        ]
      },
      "outputs": [],
      "source": []
    },
    {
      "cell_type": "markdown",
      "id": "120f7708",
      "metadata": {
        "cell_id": "00044-be719ee9-1229-43f4-983e-2150b02104d3",
        "deepnote_cell_type": "markdown",
        "id": "medical-placement"
      },
      "source": [
        "The 2nd through 5th score, in the 6th column:"
      ]
    },
    {
      "cell_type": "code",
      "execution_count": 35,
      "id": "7c5e4d71",
      "metadata": {
        "cell_id": "00045-66ff92af-738f-4434-a0bb-9b4b67494851",
        "deepnote_cell_type": "code",
        "id": "quarterly-bikini",
        "tags": [
          "exercise"
        ]
      },
      "outputs": [],
      "source": []
    },
    {
      "cell_type": "markdown",
      "id": "1381290d",
      "metadata": {
        "cell_id": "00048-e9bb4bc0-efe3-4701-a13c-0d4a19f091a1",
        "deepnote_cell_type": "markdown",
        "id": "danish-dream"
      },
      "source": [
        "**Example:** The rectangle inscribed by scores 19, 22, 35, and 38:"
      ]
    },
    {
      "cell_type": "code",
      "execution_count": 39,
      "id": "cf3cab94",
      "metadata": {
        "cell_id": "00049-189e89fb-051f-425a-b846-471a400a96c8",
        "deepnote_cell_type": "code",
        "id": "dried-romance"
      },
      "outputs": [
        {
          "data": {
            "text/plain": [
              "array([[19, 20, 21, 22],\n",
              "       [27, 28, 29, 30],\n",
              "       [35, 36, 37, 38]])"
            ]
          },
          "execution_count": 39,
          "metadata": {},
          "output_type": "execute_result"
        }
      ],
      "source": [
        "scores[2:5, 2:6]"
      ]
    },
    {
      "cell_type": "markdown",
      "id": "dc503323",
      "metadata": {
        "cell_id": "00050-fe9df914-593e-4f8b-8407-43f9d8f4fae5",
        "deepnote_cell_type": "markdown",
        "id": "timely-medication"
      },
      "source": [
        "The rectangle inscribed by scores 42, 44, 12, and 10:\n",
        "\n",
        "*(Reminder: to go to the \"end\" in a slice, just leave out the end number, like in data[2:])*"
      ]
    },
    {
      "cell_type": "code",
      "execution_count": 41,
      "id": "c7ff4dfe",
      "metadata": {
        "cell_id": "00051-52c4fb5f-e941-49f4-bf46-2ded54db5780",
        "deepnote_cell_type": "code",
        "id": "destroyed-missile",
        "tags": [
          "exercise"
        ]
      },
      "outputs": [],
      "source": []
    },
    {
      "cell_type": "markdown",
      "id": "71ba48be",
      "metadata": {
        "cell_id": "00052-c06138dd-6f48-4234-b2ff-59ed740de2fc",
        "deepnote_cell_type": "markdown",
        "id": "toxic-plain"
      },
      "source": [
        "##### Setting New Values\n",
        "\n",
        "For arrays, indexing can also be used to assign a new value.  Let's try it out, using the following pattern:\n",
        "\n",
        "```python\n",
        "data[0, :] = 10  # changes all values in the first row to 10\n",
        "data\n",
        "```\n",
        "\n",
        "*Tip*: If you want to keep the original array unchanged, `copy()` it to a new variable and change the new array."
      ]
    },
    {
      "cell_type": "markdown",
      "id": "0cb988ab",
      "metadata": {},
      "source": [
        "**Exercises**"
      ]
    },
    {
      "cell_type": "markdown",
      "id": "eb32e183",
      "metadata": {},
      "source": [
        "Use the following array, `scores`, in the exercises below:"
      ]
    },
    {
      "cell_type": "code",
      "execution_count": 9,
      "id": "3ded4fde",
      "metadata": {
        "cell_id": "00053-8dc3f6ba-f055-4cd5-a5d7-1c382982ff21",
        "deepnote_cell_type": "code",
        "id": "alternative-ethics",
        "outputId": "d3aeb102-c602-4fd1-a146-55e8f9dc1b5d"
      },
      "outputs": [
        {
          "data": {
            "text/plain": [
              "array([[ 1,  2,  3,  4,  5,  6,  7,  8],\n",
              "       [ 9, 10, 11, 12, 13, 14, 15, 16],\n",
              "       [17, 18, 19, 20, 21, 22, 23, 24],\n",
              "       [25, 26, 27, 28, 29, 30, 31, 32],\n",
              "       [33, 34, 35, 36, 37, 38, 39, 40],\n",
              "       [41, 42, 43, 44, 45, 46, 47, 48]])"
            ]
          },
          "execution_count": 9,
          "metadata": {},
          "output_type": "execute_result"
        }
      ],
      "source": [
        "scores = np.arange(1, 49).reshape(6, 8)\n",
        "scores"
      ]
    },
    {
      "cell_type": "markdown",
      "id": "d410bfba",
      "metadata": {
        "cell_id": "00054-4b766054-f130-411d-84eb-7457529bd3f7",
        "deepnote_cell_type": "markdown",
        "id": "general-checkout"
      },
      "source": [
        "**Example**: Change the 3rd column to all 88s:"
      ]
    },
    {
      "cell_type": "code",
      "execution_count": 10,
      "id": "7a37dbe9",
      "metadata": {
        "cell_id": "00055-1334880d-ac6d-4e89-8b91-fd7edf8f7982",
        "deepnote_cell_type": "code",
        "id": "controlled-persian"
      },
      "outputs": [
        {
          "data": {
            "text/plain": [
              "array([[ 1,  2, 10,  4,  5,  6,  7,  8],\n",
              "       [ 9, 10, 10, 12, 13, 14, 15, 16],\n",
              "       [17, 18, 10, 20, 21, 22, 23, 24],\n",
              "       [25, 26, 10, 28, 29, 30, 31, 32],\n",
              "       [33, 34, 10, 36, 37, 38, 39, 40],\n",
              "       [41, 42, 10, 44, 45, 46, 47, 48]])"
            ]
          },
          "execution_count": 10,
          "metadata": {},
          "output_type": "execute_result"
        }
      ],
      "source": [
        "new_scores = scores.copy()\n",
        "new_scores[:, 2] = 10\n",
        "new_scores"
      ]
    },
    {
      "cell_type": "markdown",
      "id": "bf5f2f5a",
      "metadata": {
        "cell_id": "00058-0e792f1e-a624-4d34-8ba9-95533be36410",
        "deepnote_cell_type": "markdown",
        "id": "british-bankruptcy"
      },
      "source": [
        "Change the 4th row to 0:"
      ]
    },
    {
      "cell_type": "code",
      "execution_count": 11,
      "id": "a6bff4f9",
      "metadata": {
        "cell_id": "00059-ac0a6e02-50be-4e84-803c-69353ec75485",
        "deepnote_cell_type": "code",
        "deepnote_to_be_reexecuted": false,
        "execution_millis": 2,
        "execution_start": 1628718639264,
        "id": "cultural-console",
        "source_hash": "b623e53d",
        "tags": [
          "exercise"
        ]
      },
      "outputs": [],
      "source": []
    },
    {
      "cell_type": "markdown",
      "id": "5de52f55",
      "metadata": {},
      "source": [
        "Change the 5th-7th columns to -1"
      ]
    },
    {
      "cell_type": "code",
      "execution_count": 13,
      "id": "725f8d8c",
      "metadata": {
        "tags": [
          "exercise"
        ]
      },
      "outputs": [],
      "source": []
    },
    {
      "cell_type": "markdown",
      "id": "19513301",
      "metadata": {
        "cell_id": "00056-d8174f13-f6ab-4420-8a96-d5d96a1e2537",
        "deepnote_cell_type": "markdown",
        "id": "efficient-display"
      },
      "source": [
        "Change the last score to 999:"
      ]
    },
    {
      "cell_type": "code",
      "execution_count": 14,
      "id": "1d23f71f",
      "metadata": {
        "cell_id": "00057-e42f7529-8804-4231-abcb-d35a9656ea7b",
        "deepnote_cell_type": "code",
        "id": "spectacular-nature",
        "tags": [
          "exercise"
        ]
      },
      "outputs": [],
      "source": []
    },
    {
      "cell_type": "markdown",
      "id": "ba0a63ce",
      "metadata": {
        "cell_id": "00060-b2e1aa00-484d-4600-8d55-9c9386d9c0bc",
        "deepnote_cell_type": "markdown",
        "tags": []
      },
      "source": [
        "\n",
        "## Working with Images\n",
        "\n",
        "Image data is stored as a 3D matrix, storing the brightness of each pixel along 3 coordinates:\n",
        "\n",
        "  0. Which row the pixel is in  (between 0 and the height of the image)\n",
        "  1. Which column the pixel is in (betweeen 0 and the width of the image)\n",
        "  2. What color channel the pixel is in (red, green, blue, and sometimes alpha)\n",
        "\n",
        "White pixels usually have the highest brightness values, and black pixels the darkest.\n",
        "\n",
        "If you zoom in enough, you can see the square grid.  For example, as we zoom in on this heart we start to see the square pixels that make it up:\n",
        "\n",
        "<img src=\"https://www.pinclipart.com/picdir/middle/531-5317564_heart-pixel-art-8-bit-heart-png-clipart.png\" width=\"300\">\n",
        "\n",
        "This means that visualizing any image in Python can be done by \"plotting\" a matrix!  \n",
        "Let's load an image and visualize it onscreen using Matplotlib, a plotting library.  Working with images generally uses these 3 functions:\n",
        "\n",
        "| Function | Purpose  | Example |\n",
        "| :----:   | :----:   | :---:   |\n",
        "| **`plt.imread()`** | Loads a image from a filename  | plt.imread(\"brian.png\" |\n",
        "| **`plt.imshow()`** | Plots a multidimensional array as an image | plt.imshow(my_image_array) |\n",
        "| **`plt.imsave()`** | Saves an array as an image on the computer | plt.imsave(\"new_image.jpg\", my_array) |\n",
        "\n"
      ]
    },
    {
      "cell_type": "markdown",
      "id": "2eebdac6",
      "metadata": {
        "cell_id": "00061-5f22233f-df61-4efe-b6e4-781da207f4ea",
        "deepnote_cell_type": "markdown",
        "tags": []
      },
      "source": [
        "Let's try it out!"
      ]
    },
    {
      "cell_type": "code",
      "execution_count": 28,
      "id": "bfa82b30",
      "metadata": {
        "cell_id": "00063-fc4964ee-679d-4015-b99a-3e70616e01ba",
        "deepnote_cell_type": "code",
        "deepnote_to_be_reexecuted": false,
        "execution_millis": 751,
        "execution_start": 1636014540498,
        "source_hash": "eba39436",
        "tags": []
      },
      "outputs": [],
      "source": [
        "import numpy as np\n",
        "import matplotlib.pyplot as plt"
      ]
    },
    {
      "cell_type": "markdown",
      "id": "b4541c3b",
      "metadata": {
        "cell_id": "00064-98d02b6f-34e2-481b-ab96-7fae70d9a30a",
        "deepnote_cell_type": "markdown",
        "tags": []
      },
      "source": [
        "**Exercises**"
      ]
    },
    {
      "cell_type": "markdown",
      "id": "d27656bf",
      "metadata": {
        "cell_id": "00065-21149e86-7c3b-46e9-93c0-8b1d965c379b",
        "deepnote_cell_type": "markdown",
        "deepnote_to_be_reexecuted": false,
        "execution_millis": 2,
        "execution_start": 1636014559928,
        "source_hash": "ffb9a342",
        "tags": []
      },
      "source": [
        "**Example**: Plot the following matrix as an image.  What does it look like?"
      ]
    },
    {
      "cell_type": "code",
      "execution_count": 30,
      "id": "2e776388",
      "metadata": {
        "cell_id": "00065-0fd1a918-8970-4199-99fa-e87ba3984172",
        "deepnote_cell_type": "code",
        "deepnote_to_be_reexecuted": false,
        "execution_millis": 8,
        "execution_start": 1636014605650,
        "source_hash": "d072df9e",
        "tags": []
      },
      "outputs": [
        {
          "data": {
            "text/plain": [
              "(10, 10)"
            ]
          },
          "execution_count": 30,
          "metadata": {},
          "output_type": "execute_result"
        }
      ],
      "source": [
        "data = np.arange(100).reshape(10, 10)\n",
        "data.shape  # could also just print the whole array, but often the array is too large"
      ]
    },
    {
      "cell_type": "markdown",
      "id": "2877b775",
      "metadata": {},
      "source": [
        "Example:"
      ]
    },
    {
      "cell_type": "code",
      "execution_count": 31,
      "id": "6ca76802",
      "metadata": {},
      "outputs": [
        {
          "data": {
            "image/png": "[encoded data removed]",
            "text/plain": [
              "<Figure size 640x480 with 1 Axes>"
            ]
          },
          "metadata": {},
          "output_type": "display_data"
        }
      ],
      "source": [
        "plt.imshow(data);"
      ]
    },
    {
      "cell_type": "markdown",
      "id": "2ce46fb5",
      "metadata": {
        "cell_id": "00067-7a06b2e0-8373-416f-90cf-729ad141c388",
        "deepnote_cell_type": "markdown",
        "tags": []
      },
      "source": [
        "Plot the following matrix.  What does it look like?\n",
        "\n",
        "*Tip*: After plotting, try adding the following to the `plt.imshow()` function: `cmap='gray'`"
      ]
    },
    {
      "cell_type": "code",
      "execution_count": 32,
      "id": "2c122a0a",
      "metadata": {
        "cell_id": "00068-1d5c4a05-1165-460f-b6af-f7ceff3ecfc5",
        "deepnote_cell_type": "code",
        "deepnote_to_be_reexecuted": false,
        "execution_millis": 7,
        "execution_start": 1636014737930,
        "source_hash": "8950080d",
        "tags": []
      },
      "outputs": [],
      "source": [
        "data = np.tile(np.sin(np.linspace(0, 6 * np.pi, 300)), (300, 1))"
      ]
    },
    {
      "cell_type": "code",
      "execution_count": 33,
      "id": "143ffa28",
      "metadata": {
        "tags": [
          "exercise"
        ]
      },
      "outputs": [],
      "source": []
    },
    {
      "cell_type": "markdown",
      "id": "85d279e6",
      "metadata": {
        "cell_id": "00067-8efd3075-de11-43b6-9b5f-5b59b528e99b",
        "deepnote_cell_type": "markdown",
        "tags": []
      },
      "source": [
        "Example: Read and Plot the Skull image in the `images`` folder."
      ]
    },
    {
      "cell_type": "code",
      "execution_count": 34,
      "id": "ca5ff699",
      "metadata": {
        "cell_id": "00068-205ddbc3-15ab-470b-baf6-cc464b90aa3f",
        "deepnote_cell_type": "code",
        "tags": []
      },
      "outputs": [
        {
          "data": {
            "image/png": "[encoded data removed]",
            "text/plain": [
              "<Figure size 640x480 with 1 Axes>"
            ]
          },
          "metadata": {},
          "output_type": "display_data"
        }
      ],
      "source": [
        "im = plt.imread('images/skull.png')\n",
        "plt.imshow(im);"
      ]
    },
    {
      "cell_type": "markdown",
      "id": "2366d4b7",
      "metadata": {
        "cell_id": "00067-20fe1acb-6e65-469f-9fa4-9da6a0e844b7",
        "deepnote_cell_type": "markdown",
        "tags": []
      },
      "source": [
        "Read and plot the \"Monty Python\" image in the images folder:"
      ]
    },
    {
      "cell_type": "code",
      "execution_count": 35,
      "id": "7fe803fd",
      "metadata": {
        "cell_id": "00066-53709273-3c7c-4db7-a6d7-21cedfe21e9a",
        "deepnote_cell_type": "code",
        "deepnote_to_be_reexecuted": false,
        "execution_millis": 1,
        "execution_start": 1628719914809,
        "source_hash": "b623e53d",
        "tags": [
          "exercise"
        ]
      },
      "outputs": [],
      "source": []
    },
    {
      "cell_type": "markdown",
      "id": "9b7d7ee5",
      "metadata": {
        "cell_id": "00069-5caea9b1-d576-4751-95a9-3360c285550d",
        "deepnote_cell_type": "markdown",
        "tags": []
      },
      "source": [
        "Read and plot the \"Cells\" image in the images folder."
      ]
    },
    {
      "cell_type": "code",
      "execution_count": 36,
      "id": "b9c8dd56",
      "metadata": {
        "cell_id": "00070-8197737b-2998-456e-99c1-dd8e5cc139fa",
        "deepnote_cell_type": "code",
        "deepnote_to_be_reexecuted": false,
        "execution_millis": 4,
        "execution_start": 1636014765254,
        "source_hash": "b623e53d",
        "tags": [
          "exercise"
        ]
      },
      "outputs": [],
      "source": []
    },
    {
      "cell_type": "markdown",
      "id": "bb445b65",
      "metadata": {
        "cell_id": "00071-1ed57b1b-5078-46a9-a130-2bd9247a62bc",
        "deepnote_cell_type": "markdown",
        "tags": []
      },
      "source": [
        "**Example**: Using the Cells image, index only the first 50 rows of the image and plot it, then save it as \"top_part.png\".  (This is called \"cropping\" an image)"
      ]
    },
    {
      "cell_type": "code",
      "execution_count": 37,
      "id": "9ccfd090",
      "metadata": {
        "cell_id": "00072-b2fdb746-531a-41a7-9d41-20adda91f5df",
        "deepnote_cell_type": "code",
        "deepnote_to_be_reexecuted": false,
        "execution_millis": 1,
        "execution_start": 1628720191657,
        "source_hash": "b623e53d",
        "tags": []
      },
      "outputs": [
        {
          "data": {
            "image/png": "[encoded data removed]",
            "text/plain": [
              "<Figure size 640x480 with 1 Axes>"
            ]
          },
          "metadata": {},
          "output_type": "display_data"
        }
      ],
      "source": [
        "cropped = im[:50, :]\n",
        "plt.imshow(cropped);\n",
        "plt.imsave(\"top_part.png\", cropped)"
      ]
    },
    {
      "cell_type": "markdown",
      "id": "b92f2e30",
      "metadata": {
        "cell_id": "00073-2abc106b-5f71-4980-b35b-d7f48fd47f1d",
        "deepnote_cell_type": "markdown",
        "tags": []
      },
      "source": [
        "Crop and Plot only the left cluster of cells, then save the image as \"left_cluster.png\"."
      ]
    },
    {
      "cell_type": "code",
      "execution_count": 11,
      "id": "93036f94",
      "metadata": {
        "tags": [
          "exercise"
        ]
      },
      "outputs": [],
      "source": []
    },
    {
      "cell_type": "markdown",
      "id": "8c85067d",
      "metadata": {
        "cell_id": "00075-f504c8bc-e971-4ed6-9063-487ba9cef820",
        "deepnote_cell_type": "markdown",
        "tags": []
      },
      "source": [
        "Crop and Plot only the right cluster of cells, then save the image as \"right_cluster.png\"."
      ]
    },
    {
      "cell_type": "code",
      "execution_count": 12,
      "id": "2557862d",
      "metadata": {
        "cell_id": "00076-0dd5e95c-28aa-44c1-979c-b84e748ea038",
        "deepnote_cell_type": "code",
        "deepnote_to_be_reexecuted": false,
        "execution_millis": 2,
        "execution_start": 1628763720711,
        "source_hash": "b623e53d",
        "tags": [
          "exercise"
        ]
      },
      "outputs": [],
      "source": []
    },
    {
      "cell_type": "markdown",
      "id": "e5338a52",
      "metadata": {
        "cell_id": "00077-7ea44e5d-194d-4526-8c74-ddfa64f62fee",
        "deepnote_cell_type": "markdown",
        "tags": []
      },
      "source": [
        "Load the Brains image and show it (should see a picture with lots of different brains)"
      ]
    },
    {
      "cell_type": "code",
      "execution_count": 38,
      "id": "9f621161",
      "metadata": {
        "cell_id": "00078-a4fbd0fa-cc12-42c5-9188-7024feb23ced",
        "deepnote_cell_type": "code",
        "tags": [
          "exercise"
        ]
      },
      "outputs": [],
      "source": []
    },
    {
      "cell_type": "markdown",
      "id": "4c4da853",
      "metadata": {},
      "source": [
        "Crop the human brain (only the brain, no labels), show it, and save it to a file called \"brain_human.png\"."
      ]
    },
    {
      "cell_type": "code",
      "execution_count": 47,
      "id": "386c17e2",
      "metadata": {
        "created_in_deepnote_cell": true,
        "deepnote_cell_type": "markdown",
        "tags": [
          "exercise"
        ]
      },
      "outputs": [],
      "source": []
    },
    {
      "cell_type": "markdown",
      "id": "d247803f",
      "metadata": {},
      "source": [
        "**Example**: Crop out the gorilla brain, and make any text you couldn't crop out the same color as the background (Tip: copy the image before changing it).  When you are satisfied with the picture, save it to \"brain_gorilla.png\""
      ]
    },
    {
      "cell_type": "code",
      "execution_count": 62,
      "id": "abdd2edc",
      "metadata": {
        "tags": [
          "exercise"
        ]
      },
      "outputs": [],
      "source": []
    },
    {
      "cell_type": "markdown",
      "id": "32673f97",
      "metadata": {},
      "source": [
        "Example: changing the color"
      ]
    },
    {
      "cell_type": "code",
      "execution_count": 78,
      "id": "8ffef9ca",
      "metadata": {
        "tags": [
          "exercise"
        ]
      },
      "outputs": [],
      "source": []
    },
    {
      "cell_type": "markdown",
      "id": "33a330b2",
      "metadata": {},
      "source": [
        "Crop out the Elephant image, changing the color of any remaining text to the background, and save it to a file called \"brain_elephant.png\":"
      ]
    },
    {
      "cell_type": "code",
      "execution_count": 17,
      "id": "f03be58c",
      "metadata": {
        "tags": [
          "exercise"
        ]
      },
      "outputs": [],
      "source": []
    }
  ],
  "metadata": {
    "colab": {
      "name": "7 Matrices.ipynb",
      "provenance": []
    },
    "deepnote": {},
    "deepnote_execution_queue": [],
    "deepnote_notebook_id": "776c1343-7289-4e1f-b01e-69594abe4d98",
    "kernelspec": {
      "display_name": "Python 3 (ipykernel)",
      "language": "python",
      "name": "python3"
    },
    "language_info": {
      "codemirror_mode": {
        "name": "ipython",
        "version": 3
      },
      "file_extension": ".py",
      "mimetype": "text/x-python",
      "name": "python",
      "nbconvert_exporter": "python",
      "pygments_lexer": "ipython3",
      "version": "3.10.4"
    },
    "vscode": {
      "interpreter": {
        "hash": "d6852d01271bf8033dbdb7ec364b6f6e89fd52a18c6bf5b4c73e48c86329a8dd"
      }
    }
  },
  "nbformat": 4,
  "nbformat_minor": 5
}